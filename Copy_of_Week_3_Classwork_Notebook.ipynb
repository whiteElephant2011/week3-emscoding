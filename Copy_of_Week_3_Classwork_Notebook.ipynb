{
  "nbformat": 4,
  "nbformat_minor": 0,
  "metadata": {
    "colab": {
      "provenance": [],
      "include_colab_link": true
    },
    "kernelspec": {
      "name": "python3",
      "display_name": "Python 3"
    },
    "language_info": {
      "name": "python"
    }
  },
  "cells": [
    {
      "cell_type": "markdown",
      "metadata": {
        "id": "view-in-github",
        "colab_type": "text"
      },
      "source": [
        "<a href=\"https://colab.research.google.com/github/whiteElephant2011/week3-emscoding/blob/main/Copy_of_Week_3_Classwork_Notebook.ipynb\" target=\"_parent\"><img src=\"https://colab.research.google.com/assets/colab-badge.svg\" alt=\"Open In Colab\"/></a>"
      ]
    },
    {
      "cell_type": "markdown",
      "source": [
        "**Week 3: Printing and Data Types**\n",
        "---\n",
        "\n",
        "### **Description**\n",
        "In this week, we will familiarize ourselves with printing statements and creating variables.\n",
        "\n",
        "<br>\n",
        "\n",
        "\n",
        "<br>\n",
        "\n",
        "### **Learning Objectives**\n",
        "By the end of this lab, we will:\n",
        "* Learn how to print strings\n",
        "* Create variables to store strings\n",
        "\n"
      ],
      "metadata": {
        "id": "K3JVwUgVElwe"
      }
    },
    {
      "cell_type": "markdown",
      "source": [
        "<a name=\"p1\"></a>\n",
        "\n",
        "---\n",
        "## **Part 1: Printing Strings**\n",
        "---"
      ],
      "metadata": {
        "id": "vFusVI8O6sd-"
      }
    },
    {
      "cell_type": "markdown",
      "source": [
        "#### **Problem #1.1**\n",
        "\n",
        "**Together**, let's print a hobby!"
      ],
      "metadata": {
        "id": "4EgRMGgY7J-X"
      }
    },
    {
      "cell_type": "code",
      "source": [],
      "metadata": {
        "id": "T8xD_JEjY5yf"
      },
      "execution_count": null,
      "outputs": []
    },
    {
      "cell_type": "markdown",
      "source": [
        "#### **Problem #1.2**\n",
        "\n",
        "**Independently**, let's print your favorite food!"
      ],
      "metadata": {
        "id": "0m36jq9PY4uY"
      }
    },
    {
      "cell_type": "markdown",
      "source": [
        "<a name=\"p1\"></a>\n",
        "\n",
        "---\n",
        "## **Part 2: Variables**\n",
        "---"
      ],
      "metadata": {
        "id": "nlLXEG6dOMnH"
      }
    },
    {
      "cell_type": "markdown",
      "source": [
        "\n",
        "### Remember, variable rules:\n",
        "\n",
        "* Variable names can contain only letters, numbers, and underscores\n",
        "* Can’t start with number. Spaces are not allowed in variable names\n",
        "* Underscores can be used to separate words\n",
        "* Avoid using Python keywords and function\n",
        "* Short but descriptive\n",
        "* Careful when using the lowercase letter l and the uppercase letter O (confusing with numbers 1 and 0)"
      ],
      "metadata": {
        "id": "tVf7EavmaXIM"
      }
    },
    {
      "cell_type": "markdown",
      "source": [
        "#### **Problem #2.1**\n",
        "\n",
        "**Together**, let's create a variable for a favorite color"
      ],
      "metadata": {
        "id": "fW0v28kFPKJI"
      }
    },
    {
      "cell_type": "code",
      "source": [],
      "metadata": {
        "id": "aKfg9lCLZJzy"
      },
      "execution_count": null,
      "outputs": []
    },
    {
      "cell_type": "markdown",
      "source": [
        "#### **Problem #2.2**\n",
        "\n",
        "**Independently**,  store your favorite food."
      ],
      "metadata": {
        "id": "3ibIHkdzZ_RY"
      }
    },
    {
      "cell_type": "code",
      "source": [],
      "metadata": {
        "id": "y4bYp0JCROef"
      },
      "execution_count": null,
      "outputs": []
    },
    {
      "cell_type": "markdown",
      "source": [
        "#### **Problem #2.3**\n",
        "\n",
        "**Independently**,  store your name in the variable: name. Print your name. Change the variable into your friend's name. Print again."
      ],
      "metadata": {
        "id": "y1lmqKMNRMu3"
      }
    },
    {
      "cell_type": "code",
      "source": [
        "name=\"ilkay\"\n",
        "print(name)"
      ],
      "metadata": {
        "id": "YDF0Ryh5Pxra",
        "colab": {
          "base_uri": "https://localhost:8080/"
        },
        "outputId": "44747e07-cfd5-4a23-f4ae-59e416bcf4cb"
      },
      "execution_count": null,
      "outputs": [
        {
          "output_type": "stream",
          "name": "stdout",
          "text": [
            "ilkay\n"
          ]
        }
      ]
    },
    {
      "cell_type": "markdown",
      "source": [
        "<a name=\"p1\"></a>\n",
        "\n",
        "---\n",
        "## **Part 3: Strings**\n",
        "---"
      ],
      "metadata": {
        "id": "hp8tfu0mP6md"
      }
    },
    {
      "cell_type": "markdown",
      "source": [
        "\n",
        "### **Remember, what is a string?**\n",
        "\n",
        "* The first data type we’ll look at is the string.\n",
        "* Strings are quite simple at first glance, but you can use them in many different ways.\n",
        "* A string is simply a series of characters.\n",
        "* Anything inside quotes is considered a string in Python, and you can use single or double quotes around your strings like this:\n",
        "*   -\"This is a string.\"\n",
        "*   -'This is also a string.'"
      ],
      "metadata": {
        "id": "BBM5MqpIP6md"
      }
    },
    {
      "cell_type": "markdown",
      "source": [
        "#### **Problem #3.1 (name.title())**\n",
        "\n",
        "**Together**, take a look at this example!"
      ],
      "metadata": {
        "id": "XeZhUKNHP6me"
      }
    },
    {
      "cell_type": "code",
      "source": [
        "name = \"aDa LovElace!\"\n",
        "print(name.title())"
      ],
      "metadata": {
        "id": "d6Bk3T_0QuVD",
        "colab": {
          "base_uri": "https://localhost:8080/"
        },
        "outputId": "98778140-eb79-4765-bfca-57a195057b91"
      },
      "execution_count": null,
      "outputs": [
        {
          "output_type": "stream",
          "name": "stdout",
          "text": [
            "Ada Lovelace!\n"
          ]
        }
      ]
    },
    {
      "cell_type": "markdown",
      "source": [
        "#### **Problem #3.2 (name.lower())**\n",
        "\n",
        "**Together**, take a look at this example!"
      ],
      "metadata": {
        "id": "iev56Bk6P6me"
      }
    },
    {
      "cell_type": "code",
      "source": [
        "name = \"aDa LovElace!\"\n",
        "print(name.lower())"
      ],
      "metadata": {
        "id": "5NoLV0LHQsf0",
        "colab": {
          "base_uri": "https://localhost:8080/"
        },
        "outputId": "f2714ec7-2cf9-4da8-a087-6fb8eabc54d9"
      },
      "execution_count": null,
      "outputs": [
        {
          "output_type": "stream",
          "name": "stdout",
          "text": [
            "ada lovelace!\n"
          ]
        }
      ]
    },
    {
      "cell_type": "markdown",
      "source": [
        "#### **Problem #3.3 (name.upper())**\n",
        "\n",
        "**Together**, take a look at this example!"
      ],
      "metadata": {
        "id": "MWVVbA6eP6me"
      }
    },
    {
      "cell_type": "code",
      "source": [
        "name = \"aDa LovElace!\"\n",
        "print(name.upper())"
      ],
      "metadata": {
        "id": "dYN7xaB1P6me",
        "colab": {
          "base_uri": "https://localhost:8080/"
        },
        "outputId": "8b6e282d-429b-45b8-a4bd-d79a2868ea36"
      },
      "execution_count": null,
      "outputs": [
        {
          "output_type": "stream",
          "name": "stdout",
          "text": [
            "ADA LOVELACE!\n"
          ]
        }
      ]
    },
    {
      "cell_type": "markdown",
      "source": [
        "#### **Problem #3.4 (string concatenating)**\n",
        "\n",
        "**Together**,  Store a last name and a first name and combine them through concatenating to create a full name.\n"
      ],
      "metadata": {
        "id": "tdo2WRVaP6me"
      }
    },
    {
      "cell_type": "code",
      "source": [
        "first_name = \"Jane\"\n",
        "last_name = \"Doe\"\n",
        "full_name = first_name + \" \" + last_name\n",
        "\n",
        "print(full_name)"
      ],
      "metadata": {
        "id": "s5ONmwuiP6me",
        "colab": {
          "base_uri": "https://localhost:8080/"
        },
        "outputId": "75d864ad-07eb-4c60-de19-d489ef2a2540"
      },
      "execution_count": null,
      "outputs": [
        {
          "output_type": "stream",
          "name": "stdout",
          "text": [
            "Jane Doe\n"
          ]
        }
      ]
    },
    {
      "cell_type": "markdown",
      "source": [
        "<a name=\"p1\"></a>\n",
        "\n",
        "---\n",
        "## **Part 4: Numbers**\n",
        "---"
      ],
      "metadata": {
        "id": "50nVvl8ORE7B"
      }
    },
    {
      "cell_type": "markdown",
      "source": [
        "\n",
        "### **Remember, what are number data types?**\n",
        "\n",
        "* Integers are whole numbers without decimal point\n",
        "* Floats are  any number with a decimal point\n",
        "* They can be stored the same way as strings just without the quotation marks"
      ],
      "metadata": {
        "id": "Pkg3DTAFRE7C"
      }
    },
    {
      "cell_type": "markdown",
      "source": [
        "#### **Problem #3.1**\n",
        "\n",
        "**Together**, let's add two numbers!"
      ],
      "metadata": {
        "id": "v9RDaYQFRE7D"
      }
    },
    {
      "cell_type": "code",
      "source": [],
      "metadata": {
        "id": "ETYxwNOPRE7D"
      },
      "execution_count": null,
      "outputs": []
    },
    {
      "cell_type": "markdown",
      "source": [
        "#### **Problem #3.2**\n",
        "\n",
        "**Independently**, multiply or divide two numbers!"
      ],
      "metadata": {
        "id": "MpHljJtXRE7E"
      }
    },
    {
      "cell_type": "code",
      "source": [],
      "metadata": {
        "id": "oR095h6gRE7E"
      },
      "execution_count": null,
      "outputs": []
    },
    {
      "cell_type": "markdown",
      "source": [
        "#### **Problem #3.3**\n",
        "\n",
        "**Together**, take a look at this example!"
      ],
      "metadata": {
        "id": "se6ZuDDyRE7E"
      }
    },
    {
      "cell_type": "code",
      "source": [
        "number_of_fruits = 19\n",
        "number_of_vegetables = 4"
      ],
      "metadata": {
        "id": "jkJlg8U-RE7E"
      },
      "execution_count": null,
      "outputs": []
    },
    {
      "cell_type": "markdown",
      "source": [
        "#### **Problem #3.4**\n",
        "\n",
        "**Independently**, create variables and use operations to manipulate them.\n"
      ],
      "metadata": {
        "id": "TyNdgYsNRE7E"
      }
    },
    {
      "cell_type": "code",
      "source": [],
      "metadata": {
        "id": "MnyWdPswRE7F"
      },
      "execution_count": null,
      "outputs": []
    },
    {
      "cell_type": "markdown",
      "source": [
        "<a name=\"p1\"></a>\n",
        "\n",
        "---\n",
        "## **Part 5: Other Data Types**\n",
        "---"
      ],
      "metadata": {
        "id": "QPiF1tc9SYId"
      }
    },
    {
      "cell_type": "markdown",
      "source": [
        "\n",
        "### **Remember, what are number data types?**\n",
        "\n",
        "* Comments aren’t data types but are useful to know\n",
        "* The hash mark (#) indicates a comment\n",
        "* Eg. #this line of code prints something To make notes to yourself to keep code organized"
      ],
      "metadata": {
        "id": "u6bOsTIkSYIu"
      }
    },
    {
      "cell_type": "markdown",
      "source": [
        "#### **Problem #3.1**\n",
        "\n",
        "**Together**, create a comment."
      ],
      "metadata": {
        "id": "GWjl7aymSYIu"
      }
    },
    {
      "cell_type": "code",
      "source": [
        "length = 2\n",
        "width = 10\n",
        "area = length*width"
      ],
      "metadata": {
        "id": "rNpzKuVxSYIu"
      },
      "execution_count": null,
      "outputs": []
    },
    {
      "cell_type": "markdown",
      "source": [
        "#### **Problem #3.2**\n",
        "\n",
        "**Independently**, independently create a comment!"
      ],
      "metadata": {
        "id": "UdNYRsw2SYIu"
      }
    },
    {
      "cell_type": "code",
      "source": [
        "budget = 100\n",
        "price_of_each_fruit = 5.50\n",
        "number_of_fruits = 7\n",
        "leftover = budget - (price_of_each_fruit*number_of_fruits)"
      ],
      "metadata": {
        "id": "AmeZTEbcSYIw"
      },
      "execution_count": null,
      "outputs": []
    },
    {
      "cell_type": "code",
      "source": [
        "number_of_fruits = 19\n",
        "number_of_vegetables = 4"
      ],
      "metadata": {
        "id": "u9yvh0k4SYIw"
      },
      "execution_count": null,
      "outputs": []
    }
  ]
}